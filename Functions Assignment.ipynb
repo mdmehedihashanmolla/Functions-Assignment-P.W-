{
 "cells": [
  {
   "cell_type": "markdown",
   "id": "f3f95da6",
   "metadata": {},
   "source": [
    "### Q1. Which keyword is used to create a function ? Create a function to return a list of odd numbers in the range of 1 to 25.\n",
    "\n",
    "\n",
    "Ans --> **We used def keyword to create a function in Python Programming.**"
   ]
  },
  {
   "cell_type": "code",
   "execution_count": 1,
   "id": "e807df4a",
   "metadata": {},
   "outputs": [],
   "source": [
    "#Create a function to return a list of odd numbers in the range of 1 to 25.\n",
    "\n",
    "def odd_number():\n",
    "    \n",
    "    l = []\n",
    "    for i in range(1,26,1):\n",
    "        if i%2 == 1:\n",
    "            l.append(i)\n",
    "    return l\n",
    "    "
   ]
  },
  {
   "cell_type": "code",
   "execution_count": 2,
   "id": "81b9e281",
   "metadata": {},
   "outputs": [
    {
     "data": {
      "text/plain": [
       "[1, 3, 5, 7, 9, 11, 13, 15, 17, 19, 21, 23, 25]"
      ]
     },
     "execution_count": 2,
     "metadata": {},
     "output_type": "execute_result"
    }
   ],
   "source": [
    "odd_number()"
   ]
  },
  {
   "cell_type": "markdown",
   "id": "d4fa3c2a",
   "metadata": {},
   "source": [
    "### Q2. Why (*args) and (**kwargs) is used in some functions? Create a function each for (*args) and (**kwargs) to demonstrate their use.\n",
    "\n",
    "\n",
    "Ans -->\n",
    "       \"*\" **(asterisk) is used to define before the arguments inside the function parameter to indicates that it can receive multipel positional arguments. These syntax is very useful when you don't know how many arguments will be passed to the functions.  \"*\"(asterisk) returns data type as a tuple .\n",
    "       \n",
    " \"**\" **(double asterisk) is used to define before the arguments inside the function parameter to indicates that it can have multiple keyword arguments. The \"**\"**(double asterisk) returns data type as a dictionary.\n",
    "       \n",
    " "
   ]
  },
  {
   "cell_type": "code",
   "execution_count": 3,
   "id": "c8f2e583",
   "metadata": {},
   "outputs": [
    {
     "data": {
      "text/plain": [
       "(1, 2, 3, 4, [4, 5, 'MD', 'Mehedi'])"
      ]
     },
     "execution_count": 3,
     "metadata": {},
     "output_type": "execute_result"
    }
   ],
   "source": [
    "# Example of (*args)\n",
    "def arguments1(*args):\n",
    "    return args\n",
    "arguments1(1,2,3,4,[4,5,\"MD\", \"Mehedi\"])\n",
    "# Here we can see our function contains multiple values by using *args"
   ]
  },
  {
   "cell_type": "code",
   "execution_count": null,
   "id": "3e003cc4",
   "metadata": {},
   "outputs": [],
   "source": [
    "\n"
   ]
  },
  {
   "cell_type": "code",
   "execution_count": 4,
   "id": "a6f3148f",
   "metadata": {},
   "outputs": [
    {
     "data": {
      "text/plain": [
       "{'a': 1, 'b': 2, 'c': 'Mehedi', 'last_name': 'Molla'}"
      ]
     },
     "execution_count": 4,
     "metadata": {},
     "output_type": "execute_result"
    }
   ],
   "source": [
    "# Example of  (**kwargs)\n",
    "\n",
    "def arguments2(**kwargs):\n",
    "    return kwargs\n",
    "arguments2(a = 1, b = 2, c = 'Mehedi',last_name = \"Molla\")\n",
    "# Here we can see our function contains multiple keyword arguments by using **kwargs"
   ]
  },
  {
   "cell_type": "markdown",
   "id": "1b0b5d8d",
   "metadata": {},
   "source": [
    "### Q3. What is an iterator in python? Name the method used to initialise the iterator object and the method used for iteration. Use these methods to print the first five elements of the given list [2,4,6,8,10,12,14,16,18,20].\n",
    "\n",
    "Ans --> **Iterators are  objects that allow yout to traverse through all the elements of a collection and return one element at\n",
    "a time . The method used to initialise the iterator is iter() and the method is used for iteration is next()**"
   ]
  },
  {
   "cell_type": "code",
   "execution_count": 5,
   "id": "71e55b34",
   "metadata": {},
   "outputs": [
    {
     "name": "stdout",
     "output_type": "stream",
     "text": [
      "2\n",
      "4\n",
      "6\n",
      "8\n",
      "10\n"
     ]
    }
   ],
   "source": [
    "# Use these methods to print the first five elements of the given list [2,4,6,8,10,12,14,16,18,20]\n",
    "l = [2,4,6,8,10,12,14,16,18,20]\n",
    "iterator = iter(l)\n",
    "print(next(iterator))\n",
    "print(next(iterator))\n",
    "print(next(iterator))\n",
    "print(next(iterator))\n",
    "print(next(iterator))"
   ]
  },
  {
   "cell_type": "markdown",
   "id": "059fe833",
   "metadata": {},
   "source": [
    "### Q4. What is generator funciton in python? Why yield keyword is used? Give an example of a generator function.\n",
    "\n",
    "Ans --> **Generator funciton is used to returns an iterator that produces a sequence of values when iterated over. \n",
    "The \"yield\" keyword is used in Python to create a generator function, which allows you to iterate over a sequence of values without generating them all at once. it used to save our lot of memory.**\n",
    "\n"
   ]
  },
  {
   "cell_type": "code",
   "execution_count": 6,
   "id": "9985b4af",
   "metadata": {},
   "outputs": [
    {
     "name": "stdout",
     "output_type": "stream",
     "text": [
      "10\n",
      "20\n"
     ]
    }
   ],
   "source": [
    "# Example of a generator function\n",
    "def gen(a,b):\n",
    "    yield a\n",
    "    yield b\n",
    "\n",
    "x,y = gen(10,20)\n",
    "print(x)\n",
    "print(y)\n"
   ]
  },
  {
   "cell_type": "markdown",
   "id": "a26718b6",
   "metadata": {},
   "source": [
    "**Q5.Create a generator function for prime number's less than 1000. Use the next() method to print the first 20 prime numbers**"
   ]
  },
  {
   "cell_type": "code",
   "execution_count": 18,
   "id": "042de513",
   "metadata": {},
   "outputs": [],
   "source": [
    "def prime_gen(): \n",
    "    primes = []\n",
    "    for num in range(2, 1000):\n",
    "        if all(num % i != 0 for i in range(2, int(num**0.5)+1)):\n",
    "            primes.append(num)\n",
    "            yield num\n",
    "\n"
   ]
  },
  {
   "cell_type": "code",
   "execution_count": 19,
   "id": "19be4a48",
   "metadata": {},
   "outputs": [
    {
     "name": "stdout",
     "output_type": "stream",
     "text": [
      "2\n",
      "3\n",
      "5\n",
      "7\n",
      "11\n",
      "13\n",
      "17\n",
      "19\n",
      "23\n",
      "29\n",
      "31\n",
      "37\n",
      "41\n",
      "43\n",
      "47\n",
      "53\n",
      "59\n",
      "61\n",
      "67\n",
      "71\n"
     ]
    }
   ],
   "source": [
    "gen = prime_gen()\n",
    "\n",
    "for i in range(20):\n",
    "    print(next(gen))\n"
   ]
  },
  {
   "cell_type": "code",
   "execution_count": null,
   "id": "f5b11cf0",
   "metadata": {},
   "outputs": [],
   "source": []
  }
 ],
 "metadata": {
  "kernelspec": {
   "display_name": "Python 3 (ipykernel)",
   "language": "python",
   "name": "python3"
  },
  "language_info": {
   "codemirror_mode": {
    "name": "ipython",
    "version": 3
   },
   "file_extension": ".py",
   "mimetype": "text/x-python",
   "name": "python",
   "nbconvert_exporter": "python",
   "pygments_lexer": "ipython3",
   "version": "3.10.7"
  }
 },
 "nbformat": 4,
 "nbformat_minor": 5
}
